{
  "nbformat": 4,
  "nbformat_minor": 0,
  "metadata": {
    "colab": {
      "name": "robotica.ipynb",
      "provenance": [],
      "collapsed_sections": [],
      "include_colab_link": true
    },
    "kernelspec": {
      "name": "python3",
      "display_name": "Python 3"
    }
  },
  "cells": [
    {
      "cell_type": "markdown",
      "metadata": {
        "id": "view-in-github",
        "colab_type": "text"
      },
      "source": [
        "<a href=\"https://colab.research.google.com/github/lucaskmiyazaki/kalman-filter/blob/master/robotica.ipynb\" target=\"_parent\"><img src=\"https://colab.research.google.com/assets/colab-badge.svg\" alt=\"Open In Colab\"/></a>"
      ]
    },
    {
      "cell_type": "markdown",
      "metadata": {
        "id": "NPC0jbDTUIC6",
        "colab_type": "text"
      },
      "source": [
        "<h2>Filtro de Kalman Extendido<h2>\n",
        "\n",
        "<h5>Lucas Kyoshi Miyazaki   </h5>\n",
        "<h5>Ricardo Ken Wang Tsuzuki</h5>\n",
        "\n",
        "-----------------------------------------------------------------------\n",
        "O programa deve ser rodado no Google Colab, clique em Runtime > Run All e selecione (na célula abaixo) o arquivo \"valores.csv\" salvo na pasta local"
      ]
    },
    {
      "cell_type": "code",
      "metadata": {
        "id": "eRMSvGYJSfpX",
        "colab_type": "code",
        "colab": {
          "resources": {
            "http://localhost:8080/nbextensions/google.colab/files.js": {
              "data": "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",
              "ok": true,
              "headers": [
                [
                  "content-type",
                  "application/javascript"
                ]
              ],
              "status": 200,
              "status_text": "OK"
            }
          },
          "base_uri": "https://localhost:8080/",
          "height": 81
        },
        "outputId": "f7c283fc-ef46-4abb-d74f-f83d4ac3d17d"
      },
      "source": [
        "# Selecione da sua pasta local o arquivo anexado no pdf \"valores.csv\"\n",
        "from google.colab import files\n",
        "uploaded = files.upload()"
      ],
      "execution_count": null,
      "outputs": [
        {
          "output_type": "display_data",
          "data": {
            "text/html": [
              "\n",
              "     <input type=\"file\" id=\"files-2f36ddfe-8837-4960-a804-1f25151883f4\" name=\"files[]\" multiple disabled\n",
              "        style=\"border:none\" />\n",
              "     <output id=\"result-2f36ddfe-8837-4960-a804-1f25151883f4\">\n",
              "      Upload widget is only available when the cell has been executed in the\n",
              "      current browser session. Please rerun this cell to enable.\n",
              "      </output>\n",
              "      <script src=\"/nbextensions/google.colab/files.js\"></script> "
            ],
            "text/plain": [
              "<IPython.core.display.HTML object>"
            ]
          },
          "metadata": {
            "tags": []
          }
        },
        {
          "output_type": "stream",
          "text": [
            "Saving valores.csv to valores (1).csv\n"
          ],
          "name": "stdout"
        }
      ]
    },
    {
      "cell_type": "code",
      "metadata": {
        "id": "2tft7Ac5UY_R",
        "colab_type": "code",
        "colab": {
          "base_uri": "https://localhost:8080/",
          "height": 243
        },
        "outputId": "970503c4-aba7-4358-9669-62e07a1be6db"
      },
      "source": [
        "import io\n",
        "import pandas as pd\n",
        "df2 = pd.read_csv(io.BytesIO(uploaded[\"valores.csv\"]))\n",
        "data = df2.reset_index().values\n",
        "data"
      ],
      "execution_count": null,
      "outputs": [
        {
          "output_type": "execute_result",
          "data": {
            "text/plain": [
              "array([[0, 0, '0', 0.4715929926606419, -0.5002873334578906,\n",
              "        2.1021802590401943],\n",
              "       [1, 0, '0', 0.518979607302205, -0.9687424937561804,\n",
              "        1.8150450743105344],\n",
              "       [2, 0, '0', 0.5200976929390357, -0.9739999586834288,\n",
              "        1.9497486571516744],\n",
              "       ...,\n",
              "       [3447, 0, '0', 0.6315486696597662, -0.698985104660939,\n",
              "        2.611418432414486],\n",
              "       [3448, 0, '0', 0.6885843184094996, -1.6793990566824426,\n",
              "        2.4563859053512442],\n",
              "       [3449, 0, '0', 0.7091029955162655, -0.9896890332402648,\n",
              "        0.9246051970178684]], dtype=object)"
            ]
          },
          "metadata": {
            "tags": []
          },
          "execution_count": 13
        }
      ]
    },
    {
      "cell_type": "markdown",
      "metadata": {
        "id": "CCmW0MUBIzvt",
        "colab_type": "text"
      },
      "source": [
        "<h1>O Problema do Triciclo</h1>\n",
        "Um triciclo no espaço 2d se move em torno de uma antena posicionada na origem do referencial. Seja $X_t$ variaveis de estado, $U_t$ valores dos atuadores, $Z_t$ valores dos sensores:\n",
        "\n",
        "$X_t = [x, y, \\theta, f_x, f_y]$, \n",
        "$U_t = [v, \\phi]$, \n",
        "$Z_t = [\\rho, b_f, b_e]$\n",
        " \n",
        "*   $x$ e $y$: posição do triciclo em relação à antena\n",
        "*   $\\theta$: ângulo entre eixo longitudinal do triciclo e x, algumas vezes chamaremos ele de z\n",
        "*   $f_x$ e $f_y$: componentes do vetor fluxo magnético\n",
        "*   $v$: velocidade longitudinal imposta pelas rodas\n",
        "*   $\\phi$: ângulo de basculamento da roda dianteira\n",
        "*   $\\rho$: distância do robô até a antena\n",
        "*   $b_f$ e $b_e$: projeção do campo magnético na longitudinal e transversal\n",
        "*   $l$: o comprimento do eixo longitudinal\n",
        "*   $b$: a distância entre as rodas traseiras\n",
        "*   $h$: altura da antena\n",
        "*   $\\Delta t$: O intervalo de tempo entre cada estado. O valor de $\\Delta t$ é 0,25s.\n"
      ]
    },
    {
      "cell_type": "markdown",
      "metadata": {
        "id": "XGlwDjIOxBDh",
        "colab_type": "text"
      },
      "source": [
        "![alt text](https://drive.google.com/uc?id=1LfhJQBDLCpxI8V4wgWHF3WwxFkKUvfj4)\n",
        "\n",
        "Foi utilizada a biblioteca do Sympy para manipulação simbólica para se encontrar as matrizes do filtro de Kalman de uma forma fácil. Infelizmente, não é possível rodar os programas dos exercícios 4 e 6 com as matrizes do Sympy, pois o programa fica muito lento. Portanto, estes dois exercícios (que utilizam o numpy) encontram-se no final deste jupiter notebook."
      ]
    },
    {
      "cell_type": "code",
      "metadata": {
        "id": "Xaj8MyMWvvS_",
        "colab_type": "code",
        "colab": {}
      },
      "source": [
        "import numpy as np\n",
        "from sympy import *\n",
        "x = symbols(\"x\")\n",
        "y = symbols(\"y\")\n",
        "z = symbols(\"theta\")\n",
        "fx = symbols(\"fx\")\n",
        "fy = symbols(\"fy\")\n",
        "v = symbols(\"v\")\n",
        "p = symbols(\"phi\")\n",
        "r = symbols(\"rho\")\n",
        "be = symbols(\"be\")\n",
        "bf = symbols(\"bf\")\n",
        "dt = symbols(\"dt\")\n",
        "l = 0.3\n",
        "h = 0.5\n",
        "sx = symbols(\"sx\")\n",
        "sy = symbols(\"sy\")\n",
        "sz = symbols(\"sz\")\n",
        "sr = symbols(\"sr\")\n",
        "se = symbols(\"se\")\n",
        "sf = symbols(\"sf\")"
      ],
      "execution_count": null,
      "outputs": []
    },
    {
      "cell_type": "markdown",
      "metadata": {
        "id": "OGjTujmZPX1V",
        "colab_type": "text"
      },
      "source": [
        "<h1>Perturbações</h1>\n",
        "Robôs estão sempre sujeitos a perturbações que podem enviesar as variáveis de estado do nosso triciclo.\n",
        "\n",
        "$R_{triciclo} = \\begin{bmatrix}\n",
        "s_l^2 & 0 & 0 & 0 & 0\\\\\n",
        "0 & s_t^2 & 0 & 0 & 0\\\\\n",
        "0 & 0 & s_{\\theta}^2 & 0 & 0\\\\\n",
        "0 & 0 & 0 & 0 & 0\\\\\n",
        "0 & 0 & 0 & 0 & 0\n",
        "\\end{bmatrix}$ \n",
        "\n",
        "$l_{local} = T \\cdot l_{global}$\n",
        "\n",
        "$T = \\begin{bmatrix}\n",
        "cos(\\theta) & sin(\\theta) & 0& 0 & 0\\\\\n",
        "-sin(\\theta) & cos(\\theta) & 0 & 0 & 0\\\\\n",
        "0 & 0 & 1 & 0 & 0\\\\\n",
        "0 & 0 & 0 & 1 & 0\\\\\n",
        "0 & 0 & 0 & 0 & 1\n",
        "\\end{bmatrix}$\n",
        "\n",
        "$R_{global} = T^{-1}R(T^{-1})^{T} = T^TRT$\n",
        "\n",
        "$Q_{t} = \\begin{bmatrix}\n",
        "s_{\\rho}^2 & 0 & 0\\\\\n",
        "0 & s_{f}^2 & 0 \\\\\n",
        "0 & 0 & s_{e}^2\n",
        "\\end{bmatrix}$ \n",
        "\n",
        "*   $s_x$ e $s_y$: perturbação da posição na longitudinal e transversal\n",
        "*   $s_{\\theta}$: perturbação na posição angular \n",
        "*   $s_{\\rho}$: perturbação de medição da distância até antena\n",
        "*   $s_{f}$ e $s_{e}$: perturbação de medição do campo magnético\n",
        "\n",
        "\n",
        "$s_x^2 = (\\frac{v\\Delta t}{6})^2$, $s_y^2 = (\\frac{v\\Delta t}{12})^2$, $s_{\\theta}^2 = (\\frac{v\\Delta t}{8l})^2$\n",
        "\n",
        "$s_r = \\frac{h^2+x^2+y^2}{20^2}$, $s_f = 1/4$, $s_e = 1/4$"
      ]
    },
    {
      "cell_type": "code",
      "metadata": {
        "id": "O6aEkFU-IqoB",
        "colab_type": "code",
        "colab": {}
      },
      "source": [
        "T = Matrix([[cos(z), sin(z), 0, 0, 0], [-sin(z), cos(z), 0, 0, 0], [0, 0, 1, 0, 0], [0, 0, 0, 0, 0], [0, 0, 0, 0, 0]])\n",
        "R = Matrix([[sx, 0, 0, 0, 0], [0, sy, 0, 0, 0], [0, 0, sz, 0, 0], [0, 0, 0, 1, 0], [0, 0, 0, 0, 1]])\n",
        "R = T.T*R*T\n",
        "Q = Matrix([[sr, 0, 0], [0, sf, 0], [0, 0, se]])"
      ],
      "execution_count": null,
      "outputs": []
    },
    {
      "cell_type": "markdown",
      "metadata": {
        "id": "K8xJ5lN3VPNp",
        "colab_type": "text"
      },
      "source": [
        "<h1>Q1 - Lei de Recorrencia</h1>\n",
        "\n",
        "$X_t = F(X_{t-1}, U_t) + \\epsilon_t$\n",
        "\n",
        "$F(X_{t-1}, U_t) = \\begin{bmatrix}\n",
        "x+v \\cdot \\Delta t \\cdot cos(\\theta) cos(\\phi)\\\\\n",
        "y+v \\cdot \\Delta t \\cdot sin(\\theta) cos(\\phi)\\\\\n",
        "\\theta+ \\frac{v}{l} \\cdot \\Delta t \\cdot tan(\\phi) \\\\\n",
        "f_x \\\\\n",
        "f_y\n",
        "\\end{bmatrix}$\n",
        "\n",
        "valor de R esta no codigo abaixo\n",
        "\n",
        "$R = \\begin{bmatrix}\n",
        "s_xcos(\\theta)^2 + s_ysin(\\theta)^2 & s_xsin(\\theta)cos(\\theta) - s_ysin(\\theta)cos(\\theta)& 0& 0& 0\\\\ \n",
        "s_xsin(\\theta)cos(\\theta) - s_ysin(\\theta)cos(\\theta) &  s_xsin(\\theta)^2 + s_ycos(\\theta)^2 & 0& 0& 0\\\\\n",
        " 0& 0& sz& 0& 0\\\\ \n",
        " 0& 0& 0& 0& 0\\\\ \n",
        " 0& 0& 0& 0& 0\n",
        "\\end{bmatrix}$"
      ]
    },
    {
      "cell_type": "code",
      "metadata": {
        "id": "F72-TbavVNj9",
        "colab_type": "code",
        "colab": {
          "base_uri": "https://localhost:8080/",
          "height": 54
        },
        "outputId": "216f9000-7deb-4860-f5d1-bdb4f425a560"
      },
      "source": [
        "F = Matrix([x + v*dt*cos(z)*cos(p), y + v*dt*sin(z)*cos(p), z + v*dt*tan(p)/l, fx, fy])\n",
        "print(R)"
      ],
      "execution_count": null,
      "outputs": [
        {
          "output_type": "stream",
          "text": [
            "Matrix([[sx*cos(theta)**2 + sy*sin(theta)**2, sx*sin(theta)*cos(theta) - sy*sin(theta)*cos(theta), 0, 0, 0], [sx*sin(theta)*cos(theta) - sy*sin(theta)*cos(theta), sx*sin(theta)**2 + sy*cos(theta)**2, 0, 0, 0], [0, 0, sz, 0, 0], [0, 0, 0, 0, 0], [0, 0, 0, 0, 0]])\n"
          ],
          "name": "stdout"
        }
      ]
    },
    {
      "cell_type": "markdown",
      "metadata": {
        "id": "foOBb73rYq_W",
        "colab_type": "text"
      },
      "source": [
        "<h1>Q2 - Lei de Medição</h1>\n",
        "\n",
        "$Z_t = G(X_{t}) + \\delta_t$\n",
        "\n",
        "$G(X_{t}) = \\begin{bmatrix}\n",
        "\\sqrt{x^2+y^2+h^2}\\\\\n",
        "f_xcos(\\theta)+f_ysin(\\theta) \\\\\n",
        "-f_xsin(\\theta)+f_ycos(\\theta)\n",
        "\\end{bmatrix}$"
      ]
    },
    {
      "cell_type": "code",
      "metadata": {
        "id": "3HDH4Be3Ynzp",
        "colab_type": "code",
        "colab": {}
      },
      "source": [
        "G = Matrix([(x**2 + y**2 + h**2)**(1/2), fx*cos(z) + fy*sin(z), -fx*sin(z) + fy*cos(z)])"
      ],
      "execution_count": null,
      "outputs": []
    },
    {
      "cell_type": "markdown",
      "metadata": {
        "id": "MEv_ejrRbXX2",
        "colab_type": "text"
      },
      "source": [
        "<h1>Q3 - Antes de Incorporar Medições</h1>\n",
        "\n",
        "\n",
        "\n",
        "$A_t = \\nabla_X F(X, U) = \\begin{bmatrix}\n",
        "1 & 0 & -v \\Delta t sin(\\theta) cos(\\phi) & 0 & 0\\\\\n",
        "0 & 1 & v \\Delta t cos(\\theta) cos(\\phi)& 0 & 0\\\\\n",
        "0 & 0 & 1 & 0 & 0\\\\\n",
        "0 & 0 & 0 & 1 & 0\\\\\n",
        "0 & 0 & 0 & 0 & 1\n",
        "\\end{bmatrix}$ \n",
        "\n",
        "$\\bar\\Sigma_t = A_t \\Sigma A_t^T + R_t$\n",
        "\n",
        "$\\bar\\mu_t = F(X_{t-1}, U_t)$\n"
      ]
    },
    {
      "cell_type": "code",
      "metadata": {
        "id": "nBdMq2AebKVg",
        "colab_type": "code",
        "colab": {
          "base_uri": "https://localhost:8080/",
          "height": 121
        },
        "outputId": "4c699961-e694-4f50-f660-7a7bbe9793a6"
      },
      "source": [
        "A = Matrix([diff(F, x).T, diff(F, y).T, diff(F, z).T, diff(F, fx).T, diff(F, fy).T]).T\n",
        "A"
      ],
      "execution_count": null,
      "outputs": [
        {
          "output_type": "execute_result",
          "data": {
            "text/plain": [
              "Matrix([\n",
              "[1, 0, -dt*v*sin(theta)*cos(phi), 0, 0],\n",
              "[0, 1,  dt*v*cos(phi)*cos(theta), 0, 0],\n",
              "[0, 0,                         1, 0, 0],\n",
              "[0, 0,                         0, 1, 0],\n",
              "[0, 0,                         0, 0, 1]])"
            ]
          },
          "metadata": {
            "tags": []
          },
          "execution_count": 18
        }
      ]
    },
    {
      "cell_type": "markdown",
      "metadata": {
        "id": "rqgCGg8EhVqO",
        "colab_type": "text"
      },
      "source": [
        "<h1>Q5 - Incorporando as Medições</h1>\n",
        "\n",
        "$C_t = \\nabla_X G(X) = \\begin{bmatrix}\n",
        "\\frac{x}{\\sqrt{x^2+y^2+h^2}} & \\frac{y}{\\sqrt{x^2+y^2+h^2}} & 0 & 0 & 0\\\\\n",
        "0 & 0 & -f_xsin(\\theta) + f_ycos(\\theta) & cos(\\theta) & sin(\\theta)\\\\\n",
        "0 & 0 & -f_xcos(\\theta) - f_ysin(\\theta) & -sin(\\theta) & cos(\\theta)\n",
        "\\end{bmatrix}$ \n",
        "\n",
        "$K_t = \\bar\\Sigma_t C_t^T(C_t\\bar\\Sigma_t C_t^T+Q_t)^{-1}$\n",
        "\n",
        "$\\mu = \\bar\\mu + K_t(Z_t-G(\\mu_t))$\n",
        "\n",
        "$\\Sigma_t = (I-K_tC_t)\\bar\\Sigma_t$"
      ]
    },
    {
      "cell_type": "code",
      "metadata": {
        "id": "XRBXJ1dBhKtD",
        "colab_type": "code",
        "colab": {
          "base_uri": "https://localhost:8080/",
          "height": 86
        },
        "outputId": "eaf0511c-d041-4806-f52b-3ef620038dc5"
      },
      "source": [
        "C = Matrix([diff(G, x).T, diff(G, y).T, diff(G, z).T, diff(G, fx).T, diff(G, fy).T]).T\n",
        "C"
      ],
      "execution_count": null,
      "outputs": [
        {
          "output_type": "execute_result",
          "data": {
            "text/plain": [
              "Matrix([\n",
              "[1.0*x*(x**2 + y**2 + 0.25)**(-0.5), 1.0*y*(x**2 + y**2 + 0.25)**(-0.5),                              0,           0,          0],\n",
              "[                                 0,                                  0, -fx*sin(theta) + fy*cos(theta),  cos(theta), sin(theta)],\n",
              "[                                 0,                                  0, -fx*cos(theta) - fy*sin(theta), -sin(theta), cos(theta)]])"
            ]
          },
          "metadata": {
            "tags": []
          },
          "execution_count": 19
        }
      ]
    },
    {
      "cell_type": "markdown",
      "metadata": {
        "id": "PnPXi991l8tl",
        "colab_type": "text"
      },
      "source": [
        "<h1>Q4 - Algoritmo Sem Medições</h1>\n"
      ]
    },
    {
      "cell_type": "code",
      "metadata": {
        "id": "vFQnQWXKgc-L",
        "colab_type": "code",
        "colab": {
          "base_uri": "https://localhost:8080/",
          "height": 86
        },
        "outputId": "47570974-229b-4028-b129-e03b7fd46eef"
      },
      "source": [
        "import numpy as np\n",
        "from sympy.parsing.sympy_parser import parse_expr\n",
        "# All values must be float numbers\n",
        "S0 = np.array([[0, 0, 0, 0, 0], [0, 0, 0, 0, 0], [0, 0, 0, 0, 0], [0, 0, 0, 10.0, 0], [0, 0, 0, 0, 10.0]])\n",
        "M0 = np.array([0.0, 0.0, 0.0, 0.0, 0.0])\n",
        "dt = 0.25 #1000/len(data)\n",
        "l = 0.3\n",
        "statesx = []\n",
        "statesy = []\n",
        "\n",
        "# O algoritmo retorna as medias das variaveis de estado \n",
        "def kalman1(M0, S0):\n",
        "  for i in range(1000):\n",
        "    # Definicao das var\n",
        "    U0 = np.array([data[i][1], data[i][2]])\n",
        "    v = float(U0[0])\n",
        "    try:\n",
        "      #phi = np.deg2rad(float(U0[1]))\n",
        "      phi = float(U0[1])\n",
        "    except:\n",
        "      new_str = ''\n",
        "      for c in U0[1]:\n",
        "        if c == 'P':\n",
        "          new_str = new_str + '3.1415'\n",
        "        elif c!= 'i':\n",
        "          new_str = new_str + c\n",
        "      phi = float(parse_expr(new_str))\n",
        "    x = float(M0[0])\n",
        "    y = float(M0[1])\n",
        "    theta = float(M0[2])\n",
        "    fx = float(M0[3]) \n",
        "    fy = float(M0[4])\n",
        "    sx = (dt*v/6)**2\n",
        "    sy = (dt*v/12)**2\n",
        "    sz = (dt*v/(8*l))**2 \n",
        "    # Filtro sem as medicoes\n",
        "    M = np.array([[dt*v*np.cos(theta)*np.cos(phi)+x], [dt*v*np.sin(theta)*np.cos(phi)+y], [dt*v*np.tan(phi)/l + theta], [fx], [fy]])\n",
        "    A = np.array([[1, 0, -dt*v*np.sin(theta)*np.cos(phi), 0, 0], [0, 1, dt*v*np.cos(theta)*np.cos(phi), 0, 0], [0, 0, 1, 0, 0], [0, 0, 0, 1, 0], [0, 0, 0, 0, 1]])\n",
        "    R = np.array([[sx*np.cos(theta)**2 + sy*np.sin(theta)**2, sx*np.sin(theta)*np.cos(theta) - sy*np.sin(theta)*np.cos(theta), 0, 0, 0], [sx*np.sin(theta)*np.cos(theta) - sy*np.sin(theta)*np.cos(theta), sx*np.sin(theta)**2 + sy*np.cos(theta)**2, 0, 0, 0], [0, 0, sz, 0, 0], [0, 0, 0, 0, 0], [0, 0, 0, 0, 0]])\n",
        "    S = A.T*S0*A + R\n",
        "    M0 = M\n",
        "    S0 = S\n",
        "    statesx.append(M[0])\n",
        "    statesy.append(M[1])\n",
        "  print(\"Valores de covariancia finais\")\n",
        "  #print(S)\n",
        "  print(\"cov(x) = \"+str(S[0][0]))\n",
        "  print(\"cov(y) = \"+str(S[1][1]))\n",
        "  print(\"cov(x,y) = \"+str(S[1][0]))\n",
        "  \n",
        "  return M0\n",
        "\n",
        "final = kalman1(M0, S0)"
      ],
      "execution_count": null,
      "outputs": [
        {
          "output_type": "stream",
          "text": [
            "Valores de covariancia finais\n",
            "cov(x) = 0.6391853054440519\n",
            "cov(y) = 0.6650681667781696\n",
            "cov(x,y) = -0.00020332998429735839\n"
          ],
          "name": "stdout"
        }
      ]
    },
    {
      "cell_type": "code",
      "metadata": {
        "id": "SmQioz8QS0Yj",
        "colab_type": "code",
        "colab": {
          "base_uri": "https://localhost:8080/",
          "height": 295
        },
        "outputId": "9598512e-71ef-41a6-8db9-27827083f5f8"
      },
      "source": [
        "import matplotlib.pyplot as plt\n",
        "plt.scatter(statesx, statesy)\n",
        "plt.xlabel(\"x (m)\")\n",
        "plt.ylabel(\"y (m)\")\n",
        "plt.title(\"Estimativa da trajetoria do triciclo sem medicao dos sensores\")\n",
        "plt.show()\n"
      ],
      "execution_count": null,
      "outputs": [
        {
          "output_type": "display_data",
          "data": {
            "image/png": "[encoded data removed]",
            "text/plain": [
              "<Figure size 432x288 with 1 Axes>"
            ]
          },
          "metadata": {
            "tags": [],
            "needs_background": "light"
          }
        }
      ]
    },
    {
      "cell_type": "markdown",
      "metadata": {
        "id": "doFWqi0lkyJj",
        "colab_type": "text"
      },
      "source": [
        "<h1>Q6 - Algoritmo com Medição</h1>"
      ]
    },
    {
      "cell_type": "code",
      "metadata": {
        "id": "4tI6kq9bCbpK",
        "colab_type": "code",
        "colab": {
          "base_uri": "https://localhost:8080/",
          "height": 54
        },
        "outputId": "204977dc-8cfe-4d4c-86af-983fbcef4be0"
      },
      "source": [
        "print(C)"
      ],
      "execution_count": null,
      "outputs": [
        {
          "output_type": "stream",
          "text": [
            "Matrix([[1.0*x*(x**2 + y**2 + 0.25)**(-0.5), 1.0*y*(x**2 + y**2 + 0.25)**(-0.5), 0, 0, 0], [0, 0, -fx*sin(theta) + fy*cos(theta), cos(theta), sin(theta)], [0, 0, -fx*cos(theta) - fy*sin(theta), -sin(theta), cos(theta)]])\n"
          ],
          "name": "stdout"
        }
      ]
    },
    {
      "cell_type": "code",
      "metadata": {
        "id": "IAlD1zEHhSf0",
        "colab_type": "code",
        "colab": {}
      },
      "source": [
        "# All values must be float numbers\n",
        "import numpy as np\n",
        "from sympy.parsing.sympy_parser import parse_expr\n",
        "S0 = np.array([[0, 0, 0, 0, 0], [0, 0, 0, 0, 0], [0, 0, 0, 0, 0], [0, 0, 0, 10.0, 0], [0, 0, 0, 0, 10.0]])\n",
        "M0 = np.array([0.0, 0.0, 0.0, 0.0, 0.0])\n",
        "dt = 0.25 #1000/len(data)\n",
        "l = 0.3\n",
        "h = 0.5\n",
        "statesx = []\n",
        "statesy = []\n",
        "\n",
        "# O algoritmo retorna as medias das variaveis de estado \n",
        "def kalman2(M0, S0):\n",
        "  for i in range(len(data)):\n",
        "    # definicao das var\n",
        "    U0 = np.array([data[i][1], data[i][2]])\n",
        "    Z0 = np.array([[float(data[i][3])], [float(data[i][4])], [float(data[i][5])]])\n",
        "    U0 = np.array([data[i][1], data[i][2]])\n",
        "    v = float(U0[0])\n",
        "    try:\n",
        "      #phi = np.deg2rad(float(U0[1]))\n",
        "      phi = float(U0[1])\n",
        "    except:\n",
        "      new_str = ''\n",
        "      for c in U0[1]:\n",
        "        if c == 'P':\n",
        "          new_str = new_str + '3.1415'\n",
        "        elif c!= 'i':\n",
        "          new_str = new_str + c\n",
        "      phi = float(parse_expr(new_str))\n",
        "    x = float(M0[0])\n",
        "    y = float(M0[1])\n",
        "    theta = float(M0[2])\n",
        "    fx = float(M0[3]) \n",
        "    fy = float(M0[4])\n",
        "    sx = (dt*v/6)**2\n",
        "    sy = (dt*v/12)**2\n",
        "    sz = (dt*v/(8*l))**2 \n",
        "    sr = (h**2+x**2+y**2)/20**2\n",
        "    sf = 1/4\n",
        "    se = 1/4\n",
        "\n",
        "    # Filtro sem medicao\n",
        "    M1 = np.array([[dt*v*np.cos(theta)*np.cos(phi)+x], [dt*v*np.sin(theta)*np.cos(phi)+y], [dt*v*np.tan(phi)/l + theta], [fx], [fy]])\n",
        "    A = np.array([[1, 0, -dt*v*np.sin(theta)*np.cos(phi), 0, 0], [0, 1, dt*v*np.cos(theta)*np.cos(phi), 0, 0], [0, 0, 1, 0, 0], [0, 0, 0, 1, 0], [0, 0, 0, 0, 1]])\n",
        "    R = np.array([[sx*np.cos(theta)**2 + sy*np.sin(theta)**2, sx*np.sin(theta)*np.cos(theta) - sy*np.sin(theta)*np.cos(theta), 0, 0, 0], [sx*np.sin(theta)*np.cos(theta) - sy*np.sin(theta)*np.cos(theta), sx*np.sin(theta)**2 + sy*np.cos(theta)**2, 0, 0, 0], [0, 0, sz, 0, 0], [0, 0, 0, 0, 0], [0, 0, 0, 0, 0]])\n",
        "    S1 = np.dot(np.dot(A.T,S0),A) + R\n",
        "    # Filtro com medicao\n",
        "    G = np.array([[(x**2 + y**2)**(1/2)], [fx*np.cos(theta) + fy*np.sin(theta)], [-fx*np.sin(theta) + fy*np.cos(theta)]])\n",
        "    Q = np.array([[sr, 0, 0], [0, sf, 0], [0, 0, se]])\n",
        "    C = np.array([[x/(x**2 + y**2 + h**2)**(0.5), y/(x**2 + y**2 + h**2)**(0.5), 0, 0, 0], [0, 0, -fx*np.sin(theta)+fy*np.cos(theta), np.cos(theta), np.sin(theta)], [0, 0, -fx*np.cos(theta)-fy*np.sin(theta), -np.sin(theta), np.cos(theta)]])\n",
        "    temp = np.dot(np.dot(C,S1),C.T) + Q\n",
        "    K = np.dot(S1,np.dot(C.T,np.linalg.inv(temp)))\n",
        "    I = np.identity(5)\n",
        "    S0 = np.dot((I-np.dot(K,C)),S1)\n",
        "    M0 = M1 + np.dot(K,(Z0 - G))\n",
        "    statesx.append(M0[0])\n",
        "    statesy.append(M0[1])\n",
        "\n",
        "  return M0\n",
        "\n",
        "final = kalman2(M0, S0)"
      ],
      "execution_count": null,
      "outputs": []
    },
    {
      "cell_type": "code",
      "metadata": {
        "id": "rYQdIAUPXOSd",
        "colab_type": "code",
        "colab": {
          "base_uri": "https://localhost:8080/",
          "height": 295
        },
        "outputId": "2014ac21-90ee-449a-d14c-e3feb9d1eb22"
      },
      "source": [
        "import matplotlib.pyplot as plt\n",
        "plt.scatter(statesx, statesy)\n",
        "plt.xlabel(\"x (m)\")\n",
        "plt.ylabel(\"y (m)\")\n",
        "plt.title(\"Estimativa da trajetoria do triciclo com medicao dos sensores\")\n",
        "plt.show()\n"
      ],
      "execution_count": null,
      "outputs": [
        {
          "output_type": "display_data",
          "data": {
            "image/png": "[encoded data removed]",
            "text/plain": [
              "<Figure size 432x288 with 1 Axes>"
            ]
          },
          "metadata": {
            "tags": [],
            "needs_background": "light"
          }
        }
      ]
    }
  ]
}